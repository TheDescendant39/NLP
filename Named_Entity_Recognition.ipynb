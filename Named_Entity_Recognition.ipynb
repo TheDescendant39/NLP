{
 "cells": [
  {
   "cell_type": "code",
   "execution_count": 3,
   "metadata": {},
   "outputs": [],
   "source": [
    "import spacy\n",
    "import en_core_web_sm\n",
    "nlp = en_core_web_sm.load()"
   ]
  },
  {
   "cell_type": "code",
   "execution_count": 4,
   "metadata": {},
   "outputs": [],
   "source": [
    "text = '''The Waystone Inn lay in silence, and it was a silence of three parts.\n",
    "\n",
    "The most obvious part was a hollow, echoing quiet, made by things that were lacking. If there had been a wind it would have sighed trough the trees, set the inn’s sign creaking on its hooks, and brushed the silence down the road like trailing autumn leaves. If there had been a crowd, even a handful of men inside the inn, they would have filled the silence with coversation and laughter, the clatter and clamour one expects from a drinking house during the dark hours of the night. If there had been music…but no, of curse there was no music. In fact there were none of these things, and so the silence remained.\n",
    "\n",
    "Inside the Waystone a pair of men huddled at one corner of the bar. they drank with quiet determination, avoiding serious discussions of troubling news. In doing these they added a small, sullen silenceto the lager, hollow one. it made an alloy of sorts, a counterpoint.\n",
    "\n",
    "The third silence was not an easy thing to notice. If you listened for an hour, you might begin to feel it in the wooden floor underfoot and in the rough, splintering barrels behind the bar. It was in the weight of the black stone heart that held the heat of a long-dead fire. It was in the slow back and forth of a white linen cloth rubbing along the grain of the bar. and it was in the hands of the man who stood there, polishing a strech of mahogany that already gleamed in the lamplight.\n",
    "\n",
    "The man had true-red hair, red as flame. his eyes was dark and distant, and he moved with the subtle certainty that comes from knowing many things.\n",
    "\n",
    "The Waystone was is, just as the third silence was his. This was appropriate, as it was the greatest silence of the three, wapping the other inside itself. It was deep and wide as autumn’s ending. It was heavy as a great river-smooth stone. It was the patient, cut-flower sound of a man who is waiting to die.'''\n",
    "doc = nlp(text)"
   ]
  },
  {
   "cell_type": "code",
   "execution_count": 5,
   "metadata": {},
   "outputs": [
    {
     "name": "stdout",
     "output_type": "stream",
     "text": [
      "three CARDINAL\n",
      "autumn CARDINAL\n",
      "one CARDINAL\n",
      "the dark hours of the night TIME\n",
      "one CARDINAL\n",
      "third ORDINAL\n",
      "an hour TIME\n",
      "third ORDINAL\n",
      "three CARDINAL\n"
     ]
    }
   ],
   "source": [
    "for entity in doc.ents:\n",
    "    print(entity.text, entity.label_)"
   ]
  },
  {
   "cell_type": "code",
   "execution_count": 6,
   "metadata": {},
   "outputs": [],
   "source": [
    "text = '''Chanakya, also called Kautilya or Vishnugupta, (flourished 300 BCE), Hindu statesman and philosopher who wrote a classic treatise on polity, Artha-shastra (“The Science of Material Gain”), a compilation of almost everything that had been written in India up to his time regarding artha (property, economics, or material success).\n",
    "\n",
    "\n",
    "He was born into a Brahman family and received his education at Taxila (now in Pakistan). He is known to have had a knowledge of medicine and astrology, and it is believed he was familiar with elements of Greek and Persian learning introduced into India by Zoroastrians. Some authorities believe he was a Zoroastrian or at least was strongly influenced by that religion.\n",
    "\n",
    "Chanakya became a counselor and adviser to Chandragupta (reigned c. 321–c. 297), founder of the Mauryan empire of northern India, but lived by himself. He was instrumental in helping Chandragupta overthrow the powerful Nanda dynasty at Pataliputra, in the Magadha region.\n",
    "\n",
    "\n",
    "Chanakya’s book came to be Chandragupta’s guide. Each of its 15 sections deals with a phase of government, which Chanakya sums up as “the science of punishment.” He openly advises the development of an elaborate spy system reaching into all levels of society and encourages political and secret assassination. Lost for centuries, the book was discovered in 1905.'''\n",
    "doc = nlp(text)"
   ]
  },
  {
   "cell_type": "code",
   "execution_count": 7,
   "metadata": {},
   "outputs": [
    {
     "name": "stdout",
     "output_type": "stream",
     "text": [
      "Chanakya ORG\n",
      "Kautilya GPE\n",
      "Vishnugupta GPE\n",
      "300 CARDINAL\n",
      "Hindu NORP\n",
      "Artha-shastra PERSON\n",
      "“The Science of Material Gain” WORK_OF_ART\n",
      "India GPE\n",
      "Brahman PERSON\n",
      "Taxila ORG\n",
      "Pakistan GPE\n",
      "Greek NORP\n",
      "Persian NORP\n",
      "India GPE\n",
      "Zoroastrians GPE\n",
      "Zoroastrian NORP\n",
      "Chandragupta LOC\n",
      "321–c CARDINAL\n",
      "297 CARDINAL\n",
      "Mauryan NORP\n",
      "India GPE\n",
      "Chandragupta LOC\n",
      "Nanda ORG\n",
      "Pataliputra ORG\n",
      "Magadha GPE\n",
      "Chanakya ORG\n",
      "Chandragupta LOC\n",
      "15 CARDINAL\n",
      "Chanakya ORG\n",
      "centuries DATE\n",
      "1905 DATE\n"
     ]
    }
   ],
   "source": [
    "for entity in doc.ents:\n",
    "    print(entity.text, entity.label_)"
   ]
  },
  {
   "cell_type": "code",
   "execution_count": 8,
   "metadata": {},
   "outputs": [],
   "source": [
    "locs = [('Omnicom', 'IN', 'New York'),('DDB Needham', 'IN', 'New York'), ('Kaplan Thaler Group', 'IN', 'New York'),('BBDO South', 'IN', 'Atlanta'), ('Georgia-Pacific', 'IN', 'Atlanta')]"
   ]
  },
  {
   "cell_type": "code",
   "execution_count": 10,
   "metadata": {},
   "outputs": [],
   "source": [
    "\n",
    "query = [e1 for (e1, rel, e2) in locs if e2=='Atlanta']"
   ]
  },
  {
   "cell_type": "code",
   "execution_count": 11,
   "metadata": {},
   "outputs": [
    {
     "name": "stdout",
     "output_type": "stream",
     "text": [
      "['BBDO South', 'Georgia-Pacific']\n"
     ]
    }
   ],
   "source": [
    "print(query)"
   ]
  },
  {
   "cell_type": "code",
   "execution_count": null,
   "metadata": {},
   "outputs": [],
   "source": []
  }
 ],
 "metadata": {
  "kernelspec": {
   "display_name": "Python 3",
   "language": "python",
   "name": "python3"
  },
  "language_info": {
   "codemirror_mode": {
    "name": "ipython",
    "version": 3
   },
   "file_extension": ".py",
   "mimetype": "text/x-python",
   "name": "python",
   "nbconvert_exporter": "python",
   "pygments_lexer": "ipython3",
   "version": "3.8.3"
  }
 },
 "nbformat": 4,
 "nbformat_minor": 4
}
