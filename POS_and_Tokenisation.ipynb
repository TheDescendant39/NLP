{
 "cells": [
  {
   "cell_type": "code",
   "execution_count": 1,
   "metadata": {},
   "outputs": [],
   "source": [
    "import nltk\n",
    "text1 = '''The Waystone Inn lay in silence, and it was a silence of three parts.\n",
    "\n",
    "The most obvious part was a hollow, echoing quiet, made by things that were lacking. If there had been a wind it would have sighed trough the trees, set the inn’s sign creaking on its hooks, and brushed the silence down the road like trailing autumn leaves. If there had been a crowd, even a handful of men inside the inn, they would have filled the silence with coversation and laughter, the clatter and clamour one expects from a drinking house during the dark hours of the night. If there had been music…but no, of curse there was no music. In fact there were none of these things, and so the silence remained.\n",
    "\n",
    "Inside the Waystone a pair of men huddled at one corner of the bar. they drank with quiet determination, avoiding serious discussions of troubling news. In doing these they added a small, sullen silenceto the lager, hollow one. it made an alloy of sorts, a counterpoint.\n",
    "\n",
    "The third silence was not an easy thing to notice. If you listened for an hour, you might begin to feel it in the wooden floor underfoot and in the rough, splintering barrels behind the bar. It was in the weight of the black stone heart that held the heat of a long-dead fire. It was in the slow back and forth of a white linen cloth rubbing along the grain of the bar. and it was in the hands of the man who stood there, polishing a strech of mahogany that already gleamed in the lamplight.\n",
    "\n",
    "The man had true-red hair, red as flame. his eyes was dark and distant, and he moved with the subtle certainty that comes from knowing many things.\n",
    "\n",
    "The Waystone was is, just as the third silence was his. This was appropriate, as it was the greatest silence of the three, wapping the other inside itself. It was deep and wide as autumn’s ending. It was heavy as a great river-smooth stone. It was the patient, cut-flower sound of a man who is waiting to die.'''"
   ]
  },
  {
   "cell_type": "code",
   "execution_count": 2,
   "metadata": {},
   "outputs": [
    {
     "name": "stdout",
     "output_type": "stream",
     "text": [
      "[('The', 'DT'), ('Waystone', 'NNP'), ('Inn', 'NNP'), ('lay', 'NN'), ('in', 'IN'), ('silence', 'NN'), (',', ','), ('and', 'CC'), ('it', 'PRP'), ('was', 'VBD'), ('a', 'DT'), ('silence', 'NN'), ('of', 'IN'), ('three', 'CD'), ('parts', 'NNS'), ('.', '.')]\n",
      "[('The', 'DT'), ('most', 'RBS'), ('obvious', 'JJ'), ('part', 'NN'), ('was', 'VBD'), ('a', 'DT'), ('hollow', 'NN'), (',', ','), ('echoing', 'VBG'), ('quiet', 'JJ'), (',', ','), ('made', 'VBN'), ('by', 'IN'), ('things', 'NNS'), ('that', 'WDT'), ('were', 'VBD'), ('lacking', 'VBG'), ('.', '.')]\n",
      "[('If', 'IN'), ('there', 'EX'), ('had', 'VBD'), ('been', 'VBN'), ('a', 'DT'), ('wind', 'NN'), ('it', 'PRP'), ('would', 'MD'), ('have', 'VB'), ('sighed', 'VBN'), ('trough', 'IN'), ('the', 'DT'), ('trees', 'NNS'), (',', ','), ('set', 'VBD'), ('the', 'DT'), ('inn', 'NN'), ('’', 'NNP'), ('s', 'CC'), ('sign', 'NN'), ('creaking', 'VBG'), ('on', 'IN'), ('its', 'PRP$'), ('hooks', 'NN'), (',', ','), ('and', 'CC'), ('brushed', 'VBD'), ('the', 'DT'), ('silence', 'NN'), ('down', 'RP'), ('the', 'DT'), ('road', 'NN'), ('like', 'IN'), ('trailing', 'VBG'), ('autumn', 'NN'), ('leaves', 'NNS'), ('.', '.')]\n",
      "[('If', 'IN'), ('there', 'EX'), ('had', 'VBD'), ('been', 'VBN'), ('a', 'DT'), ('crowd', 'NN'), (',', ','), ('even', 'RB'), ('a', 'DT'), ('handful', 'NN'), ('of', 'IN'), ('men', 'NNS'), ('inside', 'IN'), ('the', 'DT'), ('inn', 'NN'), (',', ','), ('they', 'PRP'), ('would', 'MD'), ('have', 'VB'), ('filled', 'VBN'), ('the', 'DT'), ('silence', 'NN'), ('with', 'IN'), ('coversation', 'NN'), ('and', 'CC'), ('laughter', 'NN'), (',', ','), ('the', 'DT'), ('clatter', 'NN'), ('and', 'CC'), ('clamour', 'VB'), ('one', 'CD'), ('expects', 'VBZ'), ('from', 'IN'), ('a', 'DT'), ('drinking', 'NN'), ('house', 'NN'), ('during', 'IN'), ('the', 'DT'), ('dark', 'JJ'), ('hours', 'NNS'), ('of', 'IN'), ('the', 'DT'), ('night', 'NN'), ('.', '.')]\n",
      "[('If', 'IN'), ('there', 'EX'), ('had', 'VBD'), ('been', 'VBN'), ('music…but', 'JJ'), ('no', 'DT'), (',', ','), ('of', 'IN'), ('curse', 'NN'), ('there', 'EX'), ('was', 'VBD'), ('no', 'DT'), ('music', 'NN'), ('.', '.')]\n",
      "[('In', 'IN'), ('fact', 'NN'), ('there', 'EX'), ('were', 'VBD'), ('none', 'NN'), ('of', 'IN'), ('these', 'DT'), ('things', 'NNS'), (',', ','), ('and', 'CC'), ('so', 'RB'), ('the', 'DT'), ('silence', 'NN'), ('remained', 'VBD'), ('.', '.')]\n",
      "[('Inside', 'IN'), ('the', 'DT'), ('Waystone', 'NNP'), ('a', 'DT'), ('pair', 'NN'), ('of', 'IN'), ('men', 'NNS'), ('huddled', 'VBD'), ('at', 'IN'), ('one', 'CD'), ('corner', 'NN'), ('of', 'IN'), ('the', 'DT'), ('bar', 'NN'), ('.', '.')]\n",
      "[('they', 'PRP'), ('drank', 'VBP'), ('with', 'IN'), ('quiet', 'JJ'), ('determination', 'NN'), (',', ','), ('avoiding', 'VBG'), ('serious', 'JJ'), ('discussions', 'NNS'), ('of', 'IN'), ('troubling', 'VBG'), ('news', 'NN'), ('.', '.')]\n",
      "[('In', 'IN'), ('doing', 'VBG'), ('these', 'DT'), ('they', 'PRP'), ('added', 'VBD'), ('a', 'DT'), ('small', 'JJ'), (',', ','), ('sullen', 'JJ'), ('silenceto', 'VBP'), ('the', 'DT'), ('lager', 'NN'), (',', ','), ('hollow', 'VB'), ('one', 'CD'), ('.', '.')]\n",
      "[('it', 'PRP'), ('made', 'VBD'), ('an', 'DT'), ('alloy', 'NN'), ('of', 'IN'), ('sorts', 'NNS'), (',', ','), ('a', 'DT'), ('counterpoint', 'NN'), ('.', '.')]\n",
      "[('The', 'DT'), ('third', 'JJ'), ('silence', 'NN'), ('was', 'VBD'), ('not', 'RB'), ('an', 'DT'), ('easy', 'JJ'), ('thing', 'NN'), ('to', 'TO'), ('notice', 'NN'), ('.', '.')]\n",
      "[('If', 'IN'), ('you', 'PRP'), ('listened', 'VBD'), ('for', 'IN'), ('an', 'DT'), ('hour', 'NN'), (',', ','), ('you', 'PRP'), ('might', 'MD'), ('begin', 'VB'), ('to', 'TO'), ('feel', 'VB'), ('it', 'PRP'), ('in', 'IN'), ('the', 'DT'), ('wooden', 'JJ'), ('floor', 'NN'), ('underfoot', 'NN'), ('and', 'CC'), ('in', 'IN'), ('the', 'DT'), ('rough', 'NN'), (',', ','), ('splintering', 'VBG'), ('barrels', 'NNS'), ('behind', 'IN'), ('the', 'DT'), ('bar', 'NN'), ('.', '.')]\n",
      "[('It', 'PRP'), ('was', 'VBD'), ('in', 'IN'), ('the', 'DT'), ('weight', 'NN'), ('of', 'IN'), ('the', 'DT'), ('black', 'JJ'), ('stone', 'NN'), ('heart', 'NN'), ('that', 'WDT'), ('held', 'VBD'), ('the', 'DT'), ('heat', 'NN'), ('of', 'IN'), ('a', 'DT'), ('long-dead', 'JJ'), ('fire', 'NN'), ('.', '.')]\n",
      "[('It', 'PRP'), ('was', 'VBD'), ('in', 'IN'), ('the', 'DT'), ('slow', 'JJ'), ('back', 'NN'), ('and', 'CC'), ('forth', 'NN'), ('of', 'IN'), ('a', 'DT'), ('white', 'JJ'), ('linen', 'NN'), ('cloth', 'NN'), ('rubbing', 'VBG'), ('along', 'IN'), ('the', 'DT'), ('grain', 'NN'), ('of', 'IN'), ('the', 'DT'), ('bar', 'NN'), ('.', '.')]\n",
      "[('and', 'CC'), ('it', 'PRP'), ('was', 'VBD'), ('in', 'IN'), ('the', 'DT'), ('hands', 'NNS'), ('of', 'IN'), ('the', 'DT'), ('man', 'NN'), ('who', 'WP'), ('stood', 'VBD'), ('there', 'RB'), (',', ','), ('polishing', 'VBG'), ('a', 'DT'), ('strech', 'NN'), ('of', 'IN'), ('mahogany', 'NN'), ('that', 'WDT'), ('already', 'RB'), ('gleamed', 'VBN'), ('in', 'IN'), ('the', 'DT'), ('lamplight', 'NN'), ('.', '.')]\n",
      "[('The', 'DT'), ('man', 'NN'), ('had', 'VBD'), ('true-red', 'JJ'), ('hair', 'NN'), (',', ','), ('red', 'JJ'), ('as', 'IN'), ('flame', 'NN'), ('.', '.')]\n",
      "[('his', 'PRP$'), ('eyes', 'NNS'), ('was', 'VBD'), ('dark', 'JJ'), ('and', 'CC'), ('distant', 'JJ'), (',', ','), ('and', 'CC'), ('he', 'PRP'), ('moved', 'VBD'), ('with', 'IN'), ('the', 'DT'), ('subtle', 'JJ'), ('certainty', 'NN'), ('that', 'WDT'), ('comes', 'VBZ'), ('from', 'IN'), ('knowing', 'VBG'), ('many', 'JJ'), ('things', 'NNS'), ('.', '.')]\n",
      "[('The', 'DT'), ('Waystone', 'NNP'), ('was', 'VBD'), ('is', 'VBZ'), (',', ','), ('just', 'RB'), ('as', 'IN'), ('the', 'DT'), ('third', 'JJ'), ('silence', 'NN'), ('was', 'VBD'), ('his', 'PRP$'), ('.', '.')]\n",
      "[('This', 'DT'), ('was', 'VBD'), ('appropriate', 'JJ'), (',', ','), ('as', 'IN'), ('it', 'PRP'), ('was', 'VBD'), ('the', 'DT'), ('greatest', 'JJS'), ('silence', 'NN'), ('of', 'IN'), ('the', 'DT'), ('three', 'CD'), (',', ','), ('wapping', 'VBG'), ('the', 'DT'), ('other', 'JJ'), ('inside', 'IN'), ('itself', 'PRP'), ('.', '.')]\n",
      "[('It', 'PRP'), ('was', 'VBD'), ('deep', 'JJ'), ('and', 'CC'), ('wide', 'JJ'), ('as', 'IN'), ('autumn', 'NN'), ('’', 'NNP'), ('s', 'NN'), ('ending', 'VBG'), ('.', '.')]\n",
      "[('It', 'PRP'), ('was', 'VBD'), ('heavy', 'JJ'), ('as', 'IN'), ('a', 'DT'), ('great', 'JJ'), ('river-smooth', 'JJ'), ('stone', 'NN'), ('.', '.')]\n",
      "[('It', 'PRP'), ('was', 'VBD'), ('the', 'DT'), ('patient', 'NN'), (',', ','), ('cut-flower', 'JJR'), ('sound', 'NN'), ('of', 'IN'), ('a', 'DT'), ('man', 'NN'), ('who', 'WP'), ('is', 'VBZ'), ('waiting', 'VBG'), ('to', 'TO'), ('die', 'VB'), ('.', '.')]\n"
     ]
    }
   ],
   "source": [
    "#basic text processing pipeline\n",
    "sentences=nltk.sent_tokenize(text1)\n",
    "for sentence in sentences:\n",
    "    words=nltk.word_tokenize(sentence)\n",
    "    tagged=nltk.pos_tag(words)\n",
    "    print(tagged)"
   ]
  },
  {
   "cell_type": "code",
   "execution_count": 3,
   "metadata": {},
   "outputs": [
    {
     "data": {
      "text/plain": [
       "['I',\n",
       " 'easily',\n",
       " 'WIN',\n",
       " 'the',\n",
       " 'Presidency',\n",
       " 'of',\n",
       " 'the',\n",
       " 'United',\n",
       " 'States',\n",
       " 'with',\n",
       " 'LEGAL',\n",
       " 'VOTES',\n",
       " 'CAST',\n",
       " '.',\n",
       " 'The',\n",
       " 'OBSERVERS',\n",
       " 'were',\n",
       " 'not',\n",
       " 'allowed',\n",
       " ',',\n",
       " 'in',\n",
       " 'any',\n",
       " 'way',\n",
       " ',',\n",
       " 'shape',\n",
       " ',',\n",
       " 'or',\n",
       " 'form',\n",
       " ',',\n",
       " 'to',\n",
       " 'do',\n",
       " 'their',\n",
       " 'job',\n",
       " 'and',\n",
       " 'therefore',\n",
       " ',',\n",
       " 'votes',\n",
       " 'accepted',\n",
       " 'during',\n",
       " 'this',\n",
       " 'period',\n",
       " 'must',\n",
       " 'be',\n",
       " 'determined',\n",
       " 'to',\n",
       " 'be',\n",
       " 'ILLEGAL',\n",
       " 'VOTES',\n",
       " '.',\n",
       " 'U',\n",
       " '.',\n",
       " 'S',\n",
       " '.',\n",
       " 'Supreme',\n",
       " 'Court',\n",
       " 'should',\n",
       " 'decide',\n",
       " '!']"
      ]
     },
     "execution_count": 3,
     "metadata": {},
     "output_type": "execute_result"
    }
   ],
   "source": [
    "#tweet tokenising\n",
    "from nltk.tokenize import TweetTokenizer\n",
    "text='I easily WIN the Presidency of the United States with LEGAL VOTES CAST. The OBSERVERS were not allowed, in any way, shape, or form, to do their job and therefore, votes accepted during this period must be determined to be ILLEGAL VOTES. U.S. Supreme Court should decide!'\n",
    "token = TweetTokenizer()\n",
    "token.tokenize(text)"
   ]
  },
  {
   "cell_type": "code",
   "execution_count": 4,
   "metadata": {},
   "outputs": [
    {
     "data": {
      "text/plain": [
       "'\\ufeffThe Project Gutenberg EBook of Crime and Punishme'"
      ]
     },
     "execution_count": 4,
     "metadata": {},
     "output_type": "execute_result"
    }
   ],
   "source": [
    "#Web scraping\n",
    "from urllib import request\n",
    "url=\"http://www.gutenberg.org/files/2554/2554-0.txt\"\n",
    "response=request.urlopen(url)\n",
    "raw=response.read().decode('utf8')\n",
    "type(raw)\n",
    "len(raw)\n",
    "raw[:50]"
   ]
  },
  {
   "cell_type": "code",
   "execution_count": 5,
   "metadata": {},
   "outputs": [
    {
     "data": {
      "text/plain": [
       "list"
      ]
     },
     "execution_count": 5,
     "metadata": {},
     "output_type": "execute_result"
    }
   ],
   "source": [
    "from nltk.tokenize import word_tokenize\n",
    "tokens=word_tokenize(raw)\n",
    "type(tokens)"
   ]
  },
  {
   "cell_type": "code",
   "execution_count": 6,
   "metadata": {},
   "outputs": [
    {
     "name": "stdout",
     "output_type": "stream",
     "text": [
      "Displaying 17 of 17 matches:\n",
      "n The Signal premiere. Lotsa buyers. Good luck gang listening to the pocast ne\n",
      "so going to enjoy this shower. Feels good to have worked on a trail three time\n",
      "ose not my friend. it was not a very good day so I have a lot to do tomorrow..\n",
      "Oh why cheesecake why? You looked so good evil cake. Now metamucil. Reading: \"\n",
      "utiful day so Im thinking to spend a good part of it outdoors.first stop at St\n",
      "g and ignoring my reaction to a very good friend getting fired. it's like a bi\n",
      "d HDH - url wrist sprain= damn pain. good thing it's not on my left hand. Bein\n",
      " I bet I can throw farther than her. Good luck with that dude. Sure it will al\n",
      " Choppers. first day of eid .. feels good Looking to buy a game called Shut th\n",
      "g. back from the ASLA 6 Congress. :) Good job ASLA CORE! I'm gonna need to ste\n",
      "tching the CNBC video of David Lear. Good job Sean! and now... off to Belize! \n",
      " Mom's cousin's car. this would be a good place for wifi! a hot technology to \n",
      "e Long Tail: Are dead-tree magazines good or bad for the climate? url the mida\n",
      "ortened! url www.last.fm is a really good idea Worst drive I've ever had. Sanj\n",
      " my tivoed shows I missed last week. Good day from fratres this 01.22.08! Ther\n",
      "ill have cause for regret. 01..24.08 Good Day!!! See Pope Benedict's plea for \n",
      ".. , @cleshen, everything went well. Good people! Probably have to go back to \n"
     ]
    }
   ],
   "source": [
    "import nltk\n",
    "f=open('tweets1.txt', 'r')\n",
    "text=f.read()\n",
    "text1=text.split()\n",
    "text2=nltk.Text(text1)\n",
    "text2.concordance(\"good\")"
   ]
  },
  {
   "cell_type": "code",
   "execution_count": null,
   "metadata": {},
   "outputs": [],
   "source": []
  }
 ],
 "metadata": {
  "kernelspec": {
   "display_name": "Python 3",
   "language": "python",
   "name": "python3"
  },
  "language_info": {
   "codemirror_mode": {
    "name": "ipython",
    "version": 3
   },
   "file_extension": ".py",
   "mimetype": "text/x-python",
   "name": "python",
   "nbconvert_exporter": "python",
   "pygments_lexer": "ipython3",
   "version": "3.8.3"
  }
 },
 "nbformat": 4,
 "nbformat_minor": 4
}
