{
 "cells": [
  {
   "cell_type": "code",
   "execution_count": 1,
   "metadata": {},
   "outputs": [],
   "source": [
    "import os, os.path"
   ]
  },
  {
   "cell_type": "code",
   "execution_count": 2,
   "metadata": {},
   "outputs": [],
   "source": [
    "path = os.path.expanduser('~/nltk_data')"
   ]
  },
  {
   "cell_type": "code",
   "execution_count": 3,
   "metadata": {},
   "outputs": [],
   "source": [
    "if not os.path.exists(path):\n",
    "    os.mkdir(path)"
   ]
  },
  {
   "cell_type": "code",
   "execution_count": 25,
   "metadata": {
    "scrolled": true
   },
   "outputs": [],
   "source": [
    "import nltk\n",
    "para1 = nltk.data.load('para1.txt')"
   ]
  },
  {
   "cell_type": "code",
   "execution_count": 14,
   "metadata": {},
   "outputs": [
    {
     "data": {
      "text/plain": [
       "b'Anniversary editions have the feel of a graduation: a year of studious slogging (of which, truth be told, my team and I do very little) and madcap fun (which we only wish we could indulge in more) rounded off with a sense of achievement and lingering anxiety. There\\xe2\\x80\\x99s pride that National Geographic Traveller India has lived to see another day, and in today\\xe2\\x80\\x99s precarious media landscape, that should account for something. Then the gnawing question: did we get it right?\\r\\nWhen it comes to travel, is there a right or a wrong way to do it? Early this month, The New York Times unearthed Albert Einstein\\xe2\\x80\\x99s entries of his journeys around Asia and discovered a surprising side to the Nobel Prize winner. About his time in mainland China he wrote, \\xe2\\x80\\x9cIn the air there is a stench of never-ending manifold variety.\\xe2\\x80\\x9d The people, he found, were \\xe2\\x80\\x9cindustrious, filthy, obtuse\\xe2\\x80\\xa6\\xe2\\x80\\x9d Travel often functions as a Rorschach test of biases.\\r\\nSome are acutely aware of this and spend their time making amends. Anthony Bourdain\\xe2\\x80\\x99s recent passing prompted glowing tributes from around the world to his open-minded exploration of parts and cultures unknown. There are others who stand their ground: If a traveller\\xe2\\x80\\x99s true sentiments veer towards exotification, maybe it should stay so. Read Indian-American author Akhil Sharma\\xe2\\x80\\x99s recounting of a fortnight in Japan, featured in this issue, for a perfect example. The counter to which, also in this edition, are the observations of three insiders on their hometowns: Member of Parliament Shashi Tharoor sings paeans to Thiruvananthapuram, musician Raghu Dixit toasts Mysore and writer Janice Pariat reminisces about Shillong. The \\xe2\\x80\\x9chow\\xe2\\x80\\x9d of travel is a matter of debate too. Dyed-in-the-wool snobs harp on about authenticity and immersing yourself in local culture. The more you are inconvenienced, the more real your journey. To which, casual travellers will respond with, \\xe2\\x80\\x9cI will take my comfortable stay in a nice hotel, thank you very much.\\xe2\\x80\\x9d NGTI\\xe2\\x80\\x99s sixth anniversary is a distillation of these myriad attitudes to travel. In their own way, our writers show you the \\xe2\\x80\\x9cright way to do it.\\xe2\\x80\\x9d\\\\ Our centrepiece is the \\xe2\\x80\\x9cSmart Hacks\\xe2\\x80\\x9d section that features an expert\\xe2\\x80\\x99s take on how best to navigate a place. Lensman Abhishek Hajela, a regular visitor to Ladakh, gives readers a glimpse into getting drool-worthy shots in Ladakh. Vaishali Dinakaran, an avowed gearhead, has the lowdown on grappling with Europe by road. Kaushal Karkhanis decodes solo backpacking in South America for the faraway dreamers. Chinmai Gupta offers a guide through that most \\xe2\\x80\\x9cmystical\\xe2\\x80\\x9d of institutions\\xe2\\x80\\x94a London nightclub. And if these stories are only a reminder of how ill-prepared your wallet is to go anywhere, we have solutions for that, too. As to whether we got it right, we have another year to fuss over that.'"
      ]
     },
     "execution_count": 14,
     "metadata": {},
     "output_type": "execute_result"
    }
   ],
   "source": [
    "para1"
   ]
  },
  {
   "cell_type": "code",
   "execution_count": 26,
   "metadata": {},
   "outputs": [],
   "source": [
    "para2 = nltk.data.load('para2.txt')"
   ]
  },
  {
   "cell_type": "code",
   "execution_count": 16,
   "metadata": {},
   "outputs": [
    {
     "data": {
      "text/plain": [
       "b'Our year-end edition toasts ultra-indulgence while travelling, featuring itineraries that many will know to be out of their financial reach. In producing these narratives, I was struck by a contrast. Travel today is dominated by minimalists or downsizers, those who preach the gospel of \\xe2\\x80\\x9chard-knock wanderlust.\\xe2\\x80\\x9d And they almost always reap universal admiration. They are characters to aspire to, examples of made-for-Instagram sayings such as, \\xe2\\x80\\x9cAll you need is a backpack\\xe2\\x80\\x9d or \\xe2\\x80\\x9c#MotorcycleDiaries.\\xe2\\x80\\x9d Unable to join these gallivanting philosophers, others marvel at their brave rebellion\\xe2\\x80\\x94oh, to give up the predictability of overpriced tourist traps someday, they sigh. In this context, luxury travel evokes a Molotov cocktail of feelings. A billionaire on a sailboat hosting Jazz Age-style revelries in the French Riviera is inevitably setting himself up for mockery. The heiress, who flits off to shopping holidays in Milan and Dubai, might as well buy an extra pair of sunglasses for the shade directed her way. Extravagance passes muster if it panders to affordability. In the last few years, it has become intertwined with entitlement, a radioactive pejorative today. Upper-class travel doesn\\xe2\\x80\\x99t deserve this slight. As more astute aesthetes have reminded us in the past, refined tastes don\\xe2\\x80\\x99t have to be gauche. Living like royalty might have its privileges but it also spurs a temperament for beauty, grace and sensuality, which is why travellers will always fork out top penny for a night in Rajasthan\\xe2\\x80\\x99s many palace stays. Wealth facilitates the kind of understated exclusivity seen in the English countryside\\xe2\\x80\\x99s several castles or manors, once a venue for elegant ballroom dances. Luxury could also simply mean time well spent\\xe2\\x80\\x94or doing nothing\\xe2\\x80\\x94floating atop a sundeck in an unending stretch of the ocean. Professional travel writers are lucky to be granted access to these private paradises and, in December\\xe2\\x80\\x99s magazine, a handful of them have returned with colourful dispatches. One writer enjoys a happy recreational bubble in the Maldives, another is privy to up close views of big game in Botswana. There is also a roundup of New York\\xe2\\x80\\x99s elite food and drinking haunts, and coverage of the maiden cruise between Mumbai and Goa. All these retreats promise a hedonistic binge: grand feasts of fine wine and champagne, and views hidden from the typical trails. Some of them will test your purse-strings but think of Holly Golightly. She couldn\\xe2\\x80\\x99t lay claim to real Tiffany\\xe2\\x80\\x99s jewels but that never stopped her from getting her heart\\xe2\\x80\\x99s fill, standing outside the window.'"
      ]
     },
     "execution_count": 16,
     "metadata": {},
     "output_type": "execute_result"
    }
   ],
   "source": [
    "para2"
   ]
  },
  {
   "cell_type": "code",
   "execution_count": 27,
   "metadata": {},
   "outputs": [],
   "source": [
    "para3 = nltk.data.load('para3.txt')\n",
    "para4 = nltk.data.load('para4.txt')"
   ]
  },
  {
   "cell_type": "code",
   "execution_count": 24,
   "metadata": {},
   "outputs": [
    {
     "data": {
      "text/plain": [
       "'For my money, memorable disagreements often centre on food. A friend who was about to settle abroad was feeling particularly wistful about a storied south Bombay restaurant, the kind of eatery that locals like to call “overrated” and guidebook-toting tourists faithfully make a beeline for. His favourite on the menu? The baklava—a dry fruit-laden traditional sweet that smacked of decadence in every bite. The first time he requested for the dessert at the restaurant, its eccentric owner was not impressed. Sizing up his credentials, he asked, “Have you had baklava before?” “Yes.” “Where?” “In Turkey.” Suspicions confirmed, the gentleman chided him. “Arre baba, that is the Turkish baklava. This is the Iranian one…” What followed was a 10-minute tutorial on the precise ways in which they differed, part-comical and part-endearing. Forget the grand battles for identity being waged around the world, food drives everyday culture wars. They are infinitely more interesting and the only injury caused is to one’s pride—we could all use some schooling on that front. Besides, unlike spikier tiffs, these usually end in smiles and a knowing wink. Last year I was perusing dinner options at Le Goutillon, an unpretentious French bistro in the heart of Chantilly. After four days in the country, most of my companions were satisfied with their fill of meat and wine, and chose conservatively. However, I and another compatriot were feeling emboldened (perhaps, it was the glass of red) and scanned the chalkboard menu for more adventurous fare. “Bring us the steak!” we declared. When our substantial cuts of beef arrived, it was soon revealed that we had held our appetite in unwarranted esteem. At the end of that meal, Goutillon’s server—a stern, no-nonsense woman—took an eyebrow-cocked look at our barely empty dishes and shook her head in disapproval. A local hotel manager later reminded us of our misplaced bravado. “Oh yeah, I heard about the Indians who didn’t finish their steak!” he giggled. France 2; India 0. In this time’s food special though, India’s showing is strong. Bombay Canteen’s Chef Thomas Zacharias, a flagbearer for all things desi, picks his top 10 must-haves from across the country. A devout traveller, he dishes on where you can seek out the finest haleem and unforgettable curries. We explore subcultures in Delhi, Kolkata and Mumbai through three different food walks. Writer Reema Islam pens a heartfelt ode to dolmades, the Grecian staple that is intertwined with her own history of growing up in Libya and Bangladesh. Antoine Lewis gathers a list of kitchen maestros, from Alex Atala to a reclusive monk in South Korea, each of whom are worth a pilgrimage. Ardent gourmands might also want to consider Dubrovnik, which in writer David Farley’s words, is Europe’s emerging food capital. As you can tell by the examples above, we were guided by pure gluttony this time.'"
      ]
     },
     "execution_count": 24,
     "metadata": {},
     "output_type": "execute_result"
    }
   ],
   "source": []
  },
  {
   "cell_type": "code",
   "execution_count": 28,
   "metadata": {},
   "outputs": [],
   "source": [
    "from nltk.tokenize import word_tokenize\n",
    "tokens_para1 = word_tokenize(para1)\n",
    "tokens_para2 = word_tokenize(para2)\n",
    "tokens_para3 = word_tokenize(para3)\n",
    "tokens_para4 = word_tokenize(para4)"
   ]
  },
  {
   "cell_type": "code",
   "execution_count": 117,
   "metadata": {},
   "outputs": [],
   "source": [
    "words_para1_wsw = [word for word in tokens_para1 if word.isalpha()]\n",
    "words_para2_wsw = [word for word in tokens_para2 if word.isalpha()]\n",
    "words_para3_wsw = [word for word in tokens_para3 if word.isalpha()]\n",
    "words_para4_wsw = [word for word in tokens_para4 if word.isalpha()]"
   ]
  },
  {
   "cell_type": "code",
   "execution_count": null,
   "metadata": {},
   "outputs": [],
   "source": []
  },
  {
   "cell_type": "code",
   "execution_count": null,
   "metadata": {},
   "outputs": [],
   "source": []
  },
  {
   "cell_type": "code",
   "execution_count": null,
   "metadata": {},
   "outputs": [],
   "source": []
  },
  {
   "cell_type": "code",
   "execution_count": 36,
   "metadata": {},
   "outputs": [],
   "source": [
    "from nltk.corpus import stopwords\n",
    "stop_words = stopwords.words('english')"
   ]
  },
  {
   "cell_type": "code",
   "execution_count": 38,
   "metadata": {},
   "outputs": [],
   "source": [
    "tokens_para1 = [w.lower() for w in tokens_para1]\n",
    "tokens_para2 = [w.lower() for w in tokens_para2]\n",
    "tokens_para3 = [w.lower() for w in tokens_para3]\n",
    "tokens_para4 = [w.lower() for w in tokens_para4]"
   ]
  },
  {
   "cell_type": "code",
   "execution_count": 112,
   "metadata": {},
   "outputs": [],
   "source": [
    "words_para1 = [w for w in words_para1 if not w in stop_words]\n",
    "words_para2 = [w for w in words_para2 if not w in stop_words]\n",
    "words_para3 = [w for w in words_para3 if not w in stop_words]\n",
    "words_para4 = [w for w in words_para4 if not w in stop_words]"
   ]
  },
  {
   "cell_type": "code",
   "execution_count": null,
   "metadata": {},
   "outputs": [],
   "source": []
  },
  {
   "cell_type": "code",
   "execution_count": 44,
   "metadata": {},
   "outputs": [],
   "source": [
    "from nltk.stem import WordNetLemmatizer\n",
    "lemmatizer = WordNetLemmatizer()"
   ]
  },
  {
   "cell_type": "code",
   "execution_count": 47,
   "metadata": {},
   "outputs": [],
   "source": [
    "lemmatized_para1 = [lemmatizer.lemmatize(word) for word in words_para1]\n",
    "lemmatized_para2 = [lemmatizer.lemmatize(word) for word in words_para2]\n",
    "lemmatized_para3 = [lemmatizer.lemmatize(word) for word in words_para3]\n",
    "lemmatized_para4 = [lemmatizer.lemmatize(word) for word in words_para4]"
   ]
  },
  {
   "cell_type": "code",
   "execution_count": 49,
   "metadata": {},
   "outputs": [
    {
     "ename": "NameError",
     "evalue": "name 'CountVectorizer' is not defined",
     "output_type": "error",
     "traceback": [
      "\u001b[1;31m---------------------------------------------------------------------------\u001b[0m",
      "\u001b[1;31mNameError\u001b[0m                                 Traceback (most recent call last)",
      "\u001b[1;32m<ipython-input-49-68f3de2fd90e>\u001b[0m in \u001b[0;36m<module>\u001b[1;34m\u001b[0m\n\u001b[1;32m----> 1\u001b[1;33m \u001b[0mvectorizer\u001b[0m \u001b[1;33m=\u001b[0m \u001b[0mCountVectorizer\u001b[0m\u001b[1;33m(\u001b[0m\u001b[1;33m)\u001b[0m\u001b[1;33m\u001b[0m\u001b[1;33m\u001b[0m\u001b[0m\n\u001b[0m\u001b[0;32m      2\u001b[0m \u001b[0mdocs\u001b[0m       \u001b[1;33m=\u001b[0m \u001b[0mvectorizer\u001b[0m\u001b[1;33m.\u001b[0m\u001b[0mfit_transform\u001b[0m\u001b[1;33m(\u001b[0m\u001b[0mpara1\u001b[0m\u001b[1;33m)\u001b[0m\u001b[1;33m\u001b[0m\u001b[1;33m\u001b[0m\u001b[0m\n\u001b[0;32m      3\u001b[0m \u001b[0mfeatures\u001b[0m   \u001b[1;33m=\u001b[0m \u001b[0mvectorizer\u001b[0m\u001b[1;33m.\u001b[0m\u001b[0mget_feature_names\u001b[0m\u001b[1;33m(\u001b[0m\u001b[1;33m)\u001b[0m\u001b[1;33m\u001b[0m\u001b[1;33m\u001b[0m\u001b[0m\n\u001b[0;32m      4\u001b[0m \u001b[1;33m\u001b[0m\u001b[0m\n\u001b[0;32m      5\u001b[0m \u001b[0mvisualizer\u001b[0m \u001b[1;33m=\u001b[0m \u001b[0mFreqDistVisualizer\u001b[0m\u001b[1;33m(\u001b[0m\u001b[0mfeatures\u001b[0m\u001b[1;33m=\u001b[0m\u001b[0mfeatures\u001b[0m\u001b[1;33m,\u001b[0m \u001b[0morient\u001b[0m\u001b[1;33m=\u001b[0m\u001b[1;34m'v'\u001b[0m\u001b[1;33m)\u001b[0m\u001b[1;33m\u001b[0m\u001b[1;33m\u001b[0m\u001b[0m\n",
      "\u001b[1;31mNameError\u001b[0m: name 'CountVectorizer' is not defined"
     ]
    }
   ],
   "source": [
    "vectorizer = CountVectorizer()\n",
    "docs       = vectorizer.fit_transform(para1)\n",
    "features   = vectorizer.get_feature_names()\n",
    "\n",
    "visualizer = FreqDistVisualizer(features=features, orient='v')\n",
    "visualizer.fit(docs)\n",
    "visualizer.show()"
   ]
  },
  {
   "cell_type": "code",
   "execution_count": 51,
   "metadata": {},
   "outputs": [],
   "source": [
    "from nltk.probability import FreqDist\n",
    "fdist_para1 = FreqDist(lemmatized_para1)\n",
    "fdist_para2 = FreqDist(lemmatized_para2)\n",
    "fdist_para3 = FreqDist(lemmatized_para3)\n",
    "fdist_para4 = FreqDist(lemmatized_para4)"
   ]
  },
  {
   "cell_type": "code",
   "execution_count": 54,
   "metadata": {},
   "outputs": [
    {
     "data": {
      "text/plain": [
       "89.84375"
      ]
     },
     "execution_count": 54,
     "metadata": {},
     "output_type": "execute_result"
    }
   ],
   "source": [
    "ttr_para1 = len(fdist_para1)*100/len(lemmatized_para1)\n",
    "ttr_para1"
   ]
  },
  {
   "cell_type": "code",
   "execution_count": 55,
   "metadata": {},
   "outputs": [
    {
     "data": {
      "text/plain": [
       "94.04255319148936"
      ]
     },
     "execution_count": 55,
     "metadata": {},
     "output_type": "execute_result"
    }
   ],
   "source": [
    "ttr_para2 = len(fdist_para2)*100/len(lemmatized_para2)\n",
    "ttr_para2"
   ]
  },
  {
   "cell_type": "code",
   "execution_count": 56,
   "metadata": {},
   "outputs": [
    {
     "data": {
      "text/plain": [
       "90.9090909090909"
      ]
     },
     "execution_count": 56,
     "metadata": {},
     "output_type": "execute_result"
    }
   ],
   "source": [
    "ttr_para3 = len(fdist_para3)*100/len(lemmatized_para3)\n",
    "ttr_para3"
   ]
  },
  {
   "cell_type": "code",
   "execution_count": 57,
   "metadata": {},
   "outputs": [
    {
     "data": {
      "text/plain": [
       "87.54716981132076"
      ]
     },
     "execution_count": 57,
     "metadata": {},
     "output_type": "execute_result"
    }
   ],
   "source": [
    "ttr_para4 = len(fdist_para4)*100/len(lemmatized_para4)\n",
    "ttr_para4"
   ]
  },
  {
   "cell_type": "code",
   "execution_count": 82,
   "metadata": {},
   "outputs": [],
   "source": [
    "# flesch formual for guaging readabilty of text : \n",
    "# Reading Ease score = 206.835 - (1.015 × ASL) - (84.6 × ASW)\n",
    "# Here,\n",
    "# ASL = average sentence length (number of words divided by number of sentences)\n",
    "# ASW = average word length in syllables (number of syllables divided by number of words)\n",
    "\n",
    "# calculating for para1\n",
    "\n",
    "sentences = len(nltk.sent_tokenize(para1))\n",
    "words = len(word_tokenize(para1))\n",
    "\n",
    "ASL = words/sentences"
   ]
  },
  {
   "cell_type": "code",
   "execution_count": 120,
   "metadata": {},
   "outputs": [
    {
     "data": {
      "text/plain": [
       "550"
      ]
     },
     "execution_count": 120,
     "metadata": {},
     "output_type": "execute_result"
    }
   ],
   "source": [
    "def syllables(word):\n",
    "    #referred from stackoverflow.com/questions/14541303/count-the-number-of-syllables-in-a-word\n",
    "    count = 0\n",
    "    vowels = 'aeiouy'\n",
    "    word = word.lower()\n",
    "    if word[0] in vowels:\n",
    "        count +=1\n",
    "    for index in range(1,len(word)):\n",
    "        if word[index] in vowels and word[index-1] not in vowels:\n",
    "            count +=1\n",
    "    if word.endswith('e'):\n",
    "        count -= 1\n",
    "    if word.endswith('le'):\n",
    "        count += 1\n",
    "    if count == 0:\n",
    "        count += 1\n",
    "    return count\n",
    "\n",
    "syl_count = 0\n",
    "for word in words_para1_wsw:\n",
    "    syl_count+=syllables(word)\n",
    "\n",
    "ASW = syl_count/words\n",
    "words"
   ]
  },
  {
   "cell_type": "code",
   "execution_count": 121,
   "metadata": {},
   "outputs": [
    {
     "data": {
      "text/plain": [
       "721"
      ]
     },
     "execution_count": 121,
     "metadata": {},
     "output_type": "execute_result"
    }
   ],
   "source": [
    "syl_count"
   ]
  },
  {
   "cell_type": "code",
   "execution_count": 83,
   "metadata": {},
   "outputs": [
    {
     "data": {
      "text/plain": [
       "25.0"
      ]
     },
     "execution_count": 83,
     "metadata": {},
     "output_type": "execute_result"
    }
   ],
   "source": [
    "ASL"
   ]
  },
  {
   "cell_type": "code",
   "execution_count": 122,
   "metadata": {},
   "outputs": [
    {
     "data": {
      "text/plain": [
       "1.3109090909090908"
      ]
     },
     "execution_count": 122,
     "metadata": {},
     "output_type": "execute_result"
    }
   ],
   "source": [
    "ASW"
   ]
  },
  {
   "cell_type": "code",
   "execution_count": 123,
   "metadata": {},
   "outputs": [
    {
     "data": {
      "text/plain": [
       "70.55709090909093"
      ]
     },
     "execution_count": 123,
     "metadata": {},
     "output_type": "execute_result"
    }
   ],
   "source": [
    "score = 206.835 - (1.015 * ASL) - (84.6 * ASW)\n",
    "score"
   ]
  },
  {
   "cell_type": "code",
   "execution_count": null,
   "metadata": {},
   "outputs": [],
   "source": [
    "#Flesch score is 70.55 which is equivalent to school grade level 8. \n",
    "#So the readablity is quite good as its very easy for an average adult to read and understand"
   ]
  }
 ],
 "metadata": {
  "kernelspec": {
   "display_name": "Python 3",
   "language": "python",
   "name": "python3"
  },
  "language_info": {
   "codemirror_mode": {
    "name": "ipython",
    "version": 3
   },
   "file_extension": ".py",
   "mimetype": "text/x-python",
   "name": "python",
   "nbconvert_exporter": "python",
   "pygments_lexer": "ipython3",
   "version": "3.8.3"
  }
 },
 "nbformat": 4,
 "nbformat_minor": 4
}
